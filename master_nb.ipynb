{
 "cells": [
  {
   "cell_type": "markdown",
   "metadata": {},
   "source": [
    "<h1> A Data Science Project About Nothing </h1>"
   ]
  },
  {
   "cell_type": "markdown",
   "metadata": {},
   "source": [
    "<h3> <i>Seinfeld</i>, my favourite sitcom and one commonly referred to as 'a show about nothing', will be the subject of this trial-and-error-driven project. Join me on my journey! </h3>"
   ]
  },
  {
   "cell_type": "markdown",
   "metadata": {},
   "source": [
    "<h4> Scraping IMDb for <i>Seinfeld</i> data, including ratings. </h4>"
   ]
  },
  {
   "cell_type": "markdown",
   "metadata": {},
   "source": [
    "I originally tried to do this using the 'old' method, but IMDb has changed its website layout to be dynamic, which meant I needed to use Selenium to automate the browser interaction.\n",
    "\n",
    "The biggest hurdle was figuring out the correct format for the CSS Selectors that corresponded with the info I wanted to scrape."
   ]
  },
  {
   "cell_type": "code",
   "execution_count": null,
   "metadata": {},
   "outputs": [],
   "source": [
    "from selenium import webdriver\n",
    "from selenium.webdriver.common.by import By\n",
    "from selenium.webdriver.chrome.options import Options\n",
    "from selenium.webdriver.chrome.service import Service\n",
    "from selenium.webdriver.support.ui import WebDriverWait\n",
    "from selenium.webdriver.support import expected_conditions as EC\n",
    "import pandas as pd\n",
    "import csv  \n",
    "\n",
    "\n",
    "chrome_options = Options()\n",
    "chrome_options.add_argument(\"--headless\") \n",
    "chrome_options.add_argument(\"user-agent=Mozilla/5.0 (Windows NT 10.0; Win64; x64) AppleWebKit/537.36 (KHTML, like Gecko) Chrome/58.0.3029.110 Safari/537.3\")\n",
    "\n",
    "\n",
    "service = Service('/usr/local/bin/chromedriver')  \n",
    "\n",
    "\n",
    "driver = webdriver.Chrome(service=service, options=chrome_options)\n",
    "wait = WebDriverWait(driver, 10)\n",
    "\n",
    "# Placing the function within a try/finally block\n",
    "\n",
    "try:\n",
    "\n",
    "    def get_imdb_ratings(season):\n",
    "        url = f'https://www.imdb.com/title/tt0098904/episodes?season={season}'\n",
    "        driver.get(url)\n",
    "        wait.until(EC.presence_of_all_elements_located((By.CSS_SELECTOR, '.sc-9115db22-1.egUMEz')))\n",
    "\n",
    "        episodes = driver.find_elements(By.CSS_SELECTOR, '.sc-9115db22-1.egUMEz')\n",
    "        episode_data = []\n",
    "\n",
    "        for episode in episodes:\n",
    "            title = episode.find_element(By.CSS_SELECTOR, '.ipc-title__text').text\n",
    "            airdate = episode.find_element(By.CSS_SELECTOR, '.sc-9115db22-10.jAfkDE').text.strip()\n",
    "            try:\n",
    "                # Corrected CSS selector by chaining class names\n",
    "                rating = episode.find_element(By.CSS_SELECTOR, '.ipc-rating-star.ipc-rating-star--base.ipc-rating-star--imdb.ratingGroup--imdb-rating').text\n",
    "            except Exception as e:\n",
    "                rating = 'N/A'\n",
    "\n",
    "            episode_data.append({'title': title, 'airdate': airdate, 'rating': rating})\n",
    "\n",
    "        return episode_data\n",
    "\n",
    "    # Gather data for all seasons\n",
    "    all_seasons_data = []\n",
    "    for season in range(1, 10):  # Seinfeld seasons 1 to 9\n",
    "        season_data = get_imdb_ratings(season)\n",
    "        for episode_info in season_data:\n",
    "            episode_info['season'] = season  # Add season number to each episode\n",
    "            all_seasons_data.append(episode_info)\n",
    "\n",
    "    with open('seinfeld_ratings.csv', mode='w', newline='', encoding='utf-8') as file:\n",
    "        writer = csv.writer(file)\n",
    "        writer.writerow(['Title', 'Airdate', 'Rating', 'Season'])\n",
    "\n",
    "        \n",
    "        for episode in all_seasons_data:\n",
    "            writer.writerow([episode['title'], episode['airdate'], episode['rating'], episode['season']])\n",
    "\n",
    "    # Convert the list of dictionaries to a dataframe\n",
    "    df = pd.DataFrame(all_seasons_data)\n",
    "\n",
    "    df.to_csv('/Users/sara/seinfeld/seinfeld_ratings.csv', index=False)\n",
    "\n",
    "finally:\n",
    "            driver.quit()\n"
   ]
  },
  {
   "cell_type": "markdown",
   "metadata": {},
   "source": [
    "Next, I wanted to split the column that shows the episode number and season into two separate columns.\n",
    "For this, I needed to use a regex expression that would capture the S for season and E for episode."
   ]
  },
  {
   "cell_type": "code",
   "execution_count": null,
   "metadata": {},
   "outputs": [
    {
     "name": "stdout",
     "output_type": "stream",
     "text": [
      "                         title            airdate             rating  season  \\\n",
      "0  S1.E1 ∙ Good News, Bad News   Wed, Oct 6, 1993  7.3\\n/10\\n (6.4K)       1   \n",
      "1         S1.E2 ∙ The Stakeout  Thu, May 31, 1990  7.5\\n/10\\n (5.5K)       1   \n",
      "2          S1.E3 ∙ The Robbery   Thu, Jun 7, 1990    7.5\\n/10\\n (5K)       1   \n",
      "3       S1.E4 ∙ Male Unbonding  Thu, Jun 14, 1990  7.3\\n/10\\n (4.9K)       1   \n",
      "4        S1.E5 ∙ The Stock Tip  Thu, Jun 21, 1990  7.4\\n/10\\n (4.8K)       1   \n",
      "\n",
      "  season_episode        episode_title  episode  \n",
      "0          S1.E1  Good News, Bad News        1  \n",
      "1          S1.E2         The Stakeout        2  \n",
      "2          S1.E3          The Robbery        3  \n",
      "3          S1.E4       Male Unbonding        4  \n",
      "4          S1.E5        The Stock Tip        5  \n"
     ]
    }
   ],
   "source": [
    "# Split the 'episode_info' column where the format follows a 'S7.E8 ∙ Episode Title' pattern\n",
    "df[['season_episode', 'episode_title']] = df['title'].str.split(' ∙ ', expand=True)\n",
    "\n",
    "df[['season', 'episode']] = df['season_episode'].str.extract(r'S(\\d+)\\.E(\\d+)', expand=True)\n",
    "\n",
    "# Convert 'season' and 'episode' to numeric types\n",
    "df['season'] = pd.to_numeric(df['season'], errors='coerce')\n",
    "df['episode'] = pd.to_numeric(df['episode'], errors='coerce')\n",
    "\n",
    "print(df.head())"
   ]
  },
  {
   "cell_type": "code",
   "execution_count": null,
   "metadata": {},
   "outputs": [
    {
     "name": "stdout",
     "output_type": "stream",
     "text": [
      "                         title            airdate             rating  season  \\\n",
      "0  S1.E1 ∙ Good News, Bad News   Wed, Oct 6, 1993  7.3\\n/10\\n (6.4K)       1   \n",
      "1         S1.E2 ∙ The Stakeout  Thu, May 31, 1990  7.5\\n/10\\n (5.5K)       1   \n",
      "2          S1.E3 ∙ The Robbery   Thu, Jun 7, 1990    7.5\\n/10\\n (5K)       1   \n",
      "3       S1.E4 ∙ Male Unbonding  Thu, Jun 14, 1990  7.3\\n/10\\n (4.9K)       1   \n",
      "4        S1.E5 ∙ The Stock Tip  Thu, Jun 21, 1990  7.4\\n/10\\n (4.8K)       1   \n",
      "\n",
      "  season_episode        episode_title  episode  \n",
      "0          S1.E1  Good News, Bad News        1  \n",
      "1          S1.E2         The Stakeout        2  \n",
      "2          S1.E3          The Robbery        3  \n",
      "3          S1.E4       Male Unbonding        4  \n",
      "4          S1.E5        The Stock Tip        5  \n"
     ]
    }
   ],
   "source": [
    "# Splitting the 'episode_info' column\n",
    "df[['season_episode', 'episode_title']] = df['title'].str.split(' ∙ ', expand=True)\n",
    "\n",
    "df[['season', 'episode']] = df['season_episode'].str.extract(r'S(\\d+)\\.E(\\d+)', expand=True)\n",
    "\n",
    "# Converting 'season' and 'episode' to numeric types\n",
    "df['season'] = pd.to_numeric(df['season'], errors='coerce')\n",
    "df['episode'] = pd.to_numeric(df['episode'], errors='coerce')\n",
    "\n",
    "print(df.head())"
   ]
  },
  {
   "cell_type": "code",
   "execution_count": null,
   "metadata": {},
   "outputs": [
    {
     "name": "stdout",
     "output_type": "stream",
     "text": [
      "             airdate             rating  season season_episode  \\\n",
      "0   Wed, Oct 6, 1993  7.3\\n/10\\n (6.4K)       1          S1.E1   \n",
      "1  Thu, May 31, 1990  7.5\\n/10\\n (5.5K)       1          S1.E2   \n",
      "2   Thu, Jun 7, 1990    7.5\\n/10\\n (5K)       1          S1.E3   \n",
      "3  Thu, Jun 14, 1990  7.3\\n/10\\n (4.9K)       1          S1.E4   \n",
      "4  Thu, Jun 21, 1990  7.4\\n/10\\n (4.8K)       1          S1.E5   \n",
      "\n",
      "         episode_title  episode  \n",
      "0  Good News, Bad News        1  \n",
      "1         The Stakeout        2  \n",
      "2          The Robbery        3  \n",
      "3       Male Unbonding        4  \n",
      "4        The Stock Tip        5  \n"
     ]
    }
   ],
   "source": [
    "df.drop('title', axis=1, inplace=True)\n",
    "print(df.head())"
   ]
  },
  {
   "cell_type": "code",
   "execution_count": null,
   "metadata": {},
   "outputs": [
    {
     "name": "stdout",
     "output_type": "stream",
     "text": [
      "0   1993-10-06\n",
      "1   1990-05-31\n",
      "2   1990-06-07\n",
      "3   1990-06-14\n",
      "4   1990-06-21\n",
      "Name: airdate, dtype: datetime64[ns]\n"
     ]
    }
   ],
   "source": [
    "# Convert 'airdate' to a datetime format\n",
    "df['airdate'] = pd.to_datetime(df['airdate'], format='%a, %b %d, %Y', errors='coerce')\n",
    "\n",
    "\n",
    "print(df['airdate'].head())\n"
   ]
  },
  {
   "cell_type": "code",
   "execution_count": null,
   "metadata": {},
   "outputs": [],
   "source": [
    "# Rearranging the order of the columns\n",
    "new_order = ['season', 'season_episode', 'episode_title', 'airdate', 'rating']\n",
    "\n",
    "\n",
    "df = df[new_order]"
   ]
  },
  {
   "cell_type": "code",
   "execution_count": null,
   "metadata": {},
   "outputs": [
    {
     "name": "stdout",
     "output_type": "stream",
     "text": [
      "   season season_episode        episode_title    airdate             rating\n",
      "0       1          S1.E1  Good News, Bad News 1993-10-06  7.3\\n/10\\n (6.4K)\n",
      "1       1          S1.E2         The Stakeout 1990-05-31  7.5\\n/10\\n (5.5K)\n",
      "2       1          S1.E3          The Robbery 1990-06-07    7.5\\n/10\\n (5K)\n",
      "3       1          S1.E4       Male Unbonding 1990-06-14  7.3\\n/10\\n (4.9K)\n",
      "4       1          S1.E5        The Stock Tip 1990-06-21  7.4\\n/10\\n (4.8K)\n"
     ]
    }
   ],
   "source": [
    "print(df.head())"
   ]
  },
  {
   "cell_type": "markdown",
   "metadata": {},
   "source": [
    "At the moment, the 'rating' column isn't particularly usable. I want to extract rating out of ten, split the columns into two, and turn the vote count into a numeric type."
   ]
  },
  {
   "cell_type": "code",
   "execution_count": null,
   "metadata": {},
   "outputs": [],
   "source": [
    "df['rating'] = df['rating'].astype(str)\n",
    "\n",
    "\n",
    "df[['rating_value', 'votes_text']] = df['rating'].str.split('/10', expand=True)\n",
    "\n",
    "\n",
    "df['votes_text'] = df['votes_text'].str.extract(r'\\(([\\d\\.]+K?)\\)', expand=False)"
   ]
  },
  {
   "cell_type": "markdown",
   "metadata": {},
   "source": [
    "The 'votes_text' column now contains values such as '6.4K' etc. without parentheses, but I still need to turn the 'K' into numeric thousands using its scientific notation 1e-3."
   ]
  },
  {
   "cell_type": "code",
   "execution_count": null,
   "metadata": {},
   "outputs": [
    {
     "name": "stdout",
     "output_type": "stream",
     "text": [
      "   season season_episode        episode_title    airdate  rating_value  \\\n",
      "0       1          S1.E1  Good News, Bad News 1993-10-06           7.3   \n",
      "1       1          S1.E2         The Stakeout 1990-05-31           7.5   \n",
      "2       1          S1.E3          The Robbery 1990-06-07           7.5   \n",
      "3       1          S1.E4       Male Unbonding 1990-06-14           7.3   \n",
      "4       1          S1.E5        The Stock Tip 1990-06-21           7.4   \n",
      "\n",
      "   total_votes  \n",
      "0       6400.0  \n",
      "1       5500.0  \n",
      "2       5000.0  \n",
      "3       4900.0  \n",
      "4       4800.0  \n"
     ]
    }
   ],
   "source": [
    "\n",
    "df['rating_value'] = df['rating_value'].astype(float)\n",
    "\n",
    "\n",
    "def votes_num(votes_str):\n",
    "    if pd.isna(votes_str):  \n",
    "        return np.nan\n",
    "    if votes_str.endswith('K'):\n",
    "        return float(votes_str[:-1]) * 1e3\n",
    "    return float(votes_str)  # If there's no 'K', it's just a straightforward number\n",
    "\n",
    "\n",
    "df['total_votes'] = df['votes_text'].apply(votes_num)\n",
    "\n",
    "# Drop the now-unnecessary 'votes_text' column\n",
    "df.drop(columns=['votes_text'], inplace=True)\n",
    "\n",
    "print(df[['season', 'season_episode', 'episode_title', 'airdate', 'rating_value', 'total_votes']].head())\n"
   ]
  },
  {
   "cell_type": "code",
   "execution_count": null,
   "metadata": {},
   "outputs": [],
   "source": [
    "df.drop('rating', axis=1, inplace=True)"
   ]
  },
  {
   "cell_type": "code",
   "execution_count": null,
   "metadata": {},
   "outputs": [
    {
     "data": {
      "text/html": [
       "<div>\n",
       "<style scoped>\n",
       "    .dataframe tbody tr th:only-of-type {\n",
       "        vertical-align: middle;\n",
       "    }\n",
       "\n",
       "    .dataframe tbody tr th {\n",
       "        vertical-align: top;\n",
       "    }\n",
       "\n",
       "    .dataframe thead th {\n",
       "        text-align: right;\n",
       "    }\n",
       "</style>\n",
       "<table border=\"1\" class=\"dataframe\">\n",
       "  <thead>\n",
       "    <tr style=\"text-align: right;\">\n",
       "      <th></th>\n",
       "      <th>season</th>\n",
       "      <th>season_episode</th>\n",
       "      <th>episode_title</th>\n",
       "      <th>airdate</th>\n",
       "      <th>rating_value</th>\n",
       "      <th>total_votes</th>\n",
       "    </tr>\n",
       "  </thead>\n",
       "  <tbody>\n",
       "    <tr>\n",
       "      <th>0</th>\n",
       "      <td>1</td>\n",
       "      <td>S1.E1</td>\n",
       "      <td>Good News, Bad News</td>\n",
       "      <td>1993-10-06</td>\n",
       "      <td>7.3</td>\n",
       "      <td>6400.0</td>\n",
       "    </tr>\n",
       "    <tr>\n",
       "      <th>1</th>\n",
       "      <td>1</td>\n",
       "      <td>S1.E2</td>\n",
       "      <td>The Stakeout</td>\n",
       "      <td>1990-05-31</td>\n",
       "      <td>7.5</td>\n",
       "      <td>5500.0</td>\n",
       "    </tr>\n",
       "    <tr>\n",
       "      <th>2</th>\n",
       "      <td>1</td>\n",
       "      <td>S1.E3</td>\n",
       "      <td>The Robbery</td>\n",
       "      <td>1990-06-07</td>\n",
       "      <td>7.5</td>\n",
       "      <td>5000.0</td>\n",
       "    </tr>\n",
       "    <tr>\n",
       "      <th>3</th>\n",
       "      <td>1</td>\n",
       "      <td>S1.E4</td>\n",
       "      <td>Male Unbonding</td>\n",
       "      <td>1990-06-14</td>\n",
       "      <td>7.3</td>\n",
       "      <td>4900.0</td>\n",
       "    </tr>\n",
       "    <tr>\n",
       "      <th>4</th>\n",
       "      <td>1</td>\n",
       "      <td>S1.E5</td>\n",
       "      <td>The Stock Tip</td>\n",
       "      <td>1990-06-21</td>\n",
       "      <td>7.4</td>\n",
       "      <td>4800.0</td>\n",
       "    </tr>\n",
       "  </tbody>\n",
       "</table>\n",
       "</div>"
      ],
      "text/plain": [
       "   season season_episode        episode_title    airdate  rating_value  \\\n",
       "0       1          S1.E1  Good News, Bad News 1993-10-06           7.3   \n",
       "1       1          S1.E2         The Stakeout 1990-05-31           7.5   \n",
       "2       1          S1.E3          The Robbery 1990-06-07           7.5   \n",
       "3       1          S1.E4       Male Unbonding 1990-06-14           7.3   \n",
       "4       1          S1.E5        The Stock Tip 1990-06-21           7.4   \n",
       "\n",
       "   total_votes  \n",
       "0       6400.0  \n",
       "1       5500.0  \n",
       "2       5000.0  \n",
       "3       4900.0  \n",
       "4       4800.0  "
      ]
     },
     "metadata": {},
     "output_type": "display_data"
    }
   ],
   "source": [
    "df.head()"
   ]
  },
  {
   "cell_type": "code",
   "execution_count": null,
   "metadata": {},
   "outputs": [],
   "source": [
    "df.to_csv('seinfeld_ratings_cleaned.csv', index=False)"
   ]
  },
  {
   "cell_type": "markdown",
   "metadata": {},
   "source": [
    "I realised here that the dates for the first season hadn't been scraped properly for some reason, and with bigger fish to fry I decided to just edit them manually."
   ]
  },
  {
   "cell_type": "markdown",
   "metadata": {},
   "source": [
    "<h3> The dataset saga continues: extracting columns from a pre-existing dataset and concatenating them to my own </h3>"
   ]
  },
  {
   "cell_type": "markdown",
   "metadata": {},
   "source": [
    "I found another dataset that included information about the writer(s) and director for each episode and wanted to include it in my own dataset to expand the scope of analysis.\n",
    "\n",
    "Firstly, I need to isolate the two columns I needed from the dataset and write them to a new file:"
   ]
  },
  {
   "cell_type": "code",
   "execution_count": null,
   "metadata": {},
   "outputs": [],
   "source": [
    "ep_info = pd.read_csv('/Users/sara/seinfeld/episode_info.csv') \n",
    "\n",
    "# Identifying the columns to isolate\n",
    "wd_cols = ep_info[['writer', 'director']] \n",
    "\n",
    "wd_cols.to_csv('/Users/sara/seinfeld/csv/wd_columns.csv', index=False) "
   ]
  },
  {
   "cell_type": "code",
   "execution_count": null,
   "metadata": {},
   "outputs": [
    {
     "data": {
      "text/html": [
       "<div>\n",
       "<style scoped>\n",
       "    .dataframe tbody tr th:only-of-type {\n",
       "        vertical-align: middle;\n",
       "    }\n",
       "\n",
       "    .dataframe tbody tr th {\n",
       "        vertical-align: top;\n",
       "    }\n",
       "\n",
       "    .dataframe thead th {\n",
       "        text-align: right;\n",
       "    }\n",
       "</style>\n",
       "<table border=\"1\" class=\"dataframe\">\n",
       "  <thead>\n",
       "    <tr style=\"text-align: right;\">\n",
       "      <th></th>\n",
       "      <th>writer</th>\n",
       "      <th>director</th>\n",
       "    </tr>\n",
       "  </thead>\n",
       "  <tbody>\n",
       "    <tr>\n",
       "      <th>0</th>\n",
       "      <td>Larry David, Jerry Seinfeld</td>\n",
       "      <td>Art Wolff</td>\n",
       "    </tr>\n",
       "    <tr>\n",
       "      <th>1</th>\n",
       "      <td>Larry David, Jerry Seinfeld</td>\n",
       "      <td>Tom Cherones</td>\n",
       "    </tr>\n",
       "    <tr>\n",
       "      <th>2</th>\n",
       "      <td>Matt Goldman</td>\n",
       "      <td>Tom Cherones</td>\n",
       "    </tr>\n",
       "    <tr>\n",
       "      <th>3</th>\n",
       "      <td>Larry David, Jerry Seinfeld</td>\n",
       "      <td>Tom Cherones</td>\n",
       "    </tr>\n",
       "    <tr>\n",
       "      <th>4</th>\n",
       "      <td>Larry David, Jerry Seinfeld</td>\n",
       "      <td>Tom Cherones</td>\n",
       "    </tr>\n",
       "  </tbody>\n",
       "</table>\n",
       "</div>"
      ],
      "text/plain": [
       "                        writer      director\n",
       "0  Larry David, Jerry Seinfeld     Art Wolff\n",
       "1  Larry David, Jerry Seinfeld  Tom Cherones\n",
       "2                 Matt Goldman  Tom Cherones\n",
       "3  Larry David, Jerry Seinfeld  Tom Cherones\n",
       "4  Larry David, Jerry Seinfeld  Tom Cherones"
      ]
     },
     "metadata": {},
     "output_type": "display_data"
    }
   ],
   "source": [
    "wd_cols.head()"
   ]
  },
  {
   "cell_type": "markdown",
   "metadata": {},
   "source": [
    "Concatenating the file containing the two extracted columns to my main dataset:"
   ]
  },
  {
   "cell_type": "code",
   "execution_count": null,
   "metadata": {},
   "outputs": [],
   "source": [
    "import pandas as pd\n",
    "\n",
    "seinfeld_df = pd.read_csv('/Users/sara/seinfeld/csv/ratings_cleanest.csv')\n",
    "wd_colunns = pd.read_csv('/Users/sara/seinfeld/wd_colunns.csv')\n",
    "\n",
    "\n",
    "ep_inf_tr = wd_colunns.iloc[:len(seinfeld_df)][['writer', 'director']]\n",
    "\n",
    "comb_df = pd.concat([seinfeld_df, wd_colunns_tr], axis=1)\n",
    "\n",
    "comb_df.to_csv('merged_seinfeld.csv', index=False)\n"
   ]
  },
  {
   "cell_type": "code",
   "execution_count": null,
   "metadata": {},
   "outputs": [
    {
     "data": {
      "text/html": [
       "<div>\n",
       "<style scoped>\n",
       "    .dataframe tbody tr th:only-of-type {\n",
       "        vertical-align: middle;\n",
       "    }\n",
       "\n",
       "    .dataframe tbody tr th {\n",
       "        vertical-align: top;\n",
       "    }\n",
       "\n",
       "    .dataframe thead th {\n",
       "        text-align: right;\n",
       "    }\n",
       "</style>\n",
       "<table border=\"1\" class=\"dataframe\">\n",
       "  <thead>\n",
       "    <tr style=\"text-align: right;\">\n",
       "      <th></th>\n",
       "      <th>season</th>\n",
       "      <th>season_episode</th>\n",
       "      <th>episode_title</th>\n",
       "      <th>airdate</th>\n",
       "      <th>rating_value</th>\n",
       "      <th>total_votes</th>\n",
       "      <th>writer</th>\n",
       "      <th>director</th>\n",
       "    </tr>\n",
       "  </thead>\n",
       "  <tbody>\n",
       "    <tr>\n",
       "      <th>0</th>\n",
       "      <td>1</td>\n",
       "      <td>S1.E1</td>\n",
       "      <td>Good News, Bad News</td>\n",
       "      <td>1989-07-05</td>\n",
       "      <td>7.3</td>\n",
       "      <td>6400.0</td>\n",
       "      <td>Larry David, Jerry Seinfeld</td>\n",
       "      <td>Art Wolff</td>\n",
       "    </tr>\n",
       "    <tr>\n",
       "      <th>1</th>\n",
       "      <td>1</td>\n",
       "      <td>S1.E2</td>\n",
       "      <td>The Stakeout</td>\n",
       "      <td>1990-05-31</td>\n",
       "      <td>7.5</td>\n",
       "      <td>5500.0</td>\n",
       "      <td>Larry David, Jerry Seinfeld</td>\n",
       "      <td>Tom Cherones</td>\n",
       "    </tr>\n",
       "    <tr>\n",
       "      <th>2</th>\n",
       "      <td>1</td>\n",
       "      <td>S1.E3</td>\n",
       "      <td>The Robbery</td>\n",
       "      <td>1990-06-07</td>\n",
       "      <td>7.5</td>\n",
       "      <td>5000.0</td>\n",
       "      <td>Matt Goldman</td>\n",
       "      <td>Tom Cherones</td>\n",
       "    </tr>\n",
       "    <tr>\n",
       "      <th>3</th>\n",
       "      <td>1</td>\n",
       "      <td>S1.E4</td>\n",
       "      <td>Male Unbonding</td>\n",
       "      <td>1990-06-14</td>\n",
       "      <td>7.3</td>\n",
       "      <td>4900.0</td>\n",
       "      <td>Larry David, Jerry Seinfeld</td>\n",
       "      <td>Tom Cherones</td>\n",
       "    </tr>\n",
       "    <tr>\n",
       "      <th>4</th>\n",
       "      <td>1</td>\n",
       "      <td>S1.E5</td>\n",
       "      <td>The Stock Tip</td>\n",
       "      <td>1990-06-21</td>\n",
       "      <td>7.4</td>\n",
       "      <td>4800.0</td>\n",
       "      <td>Larry David, Jerry Seinfeld</td>\n",
       "      <td>Tom Cherones</td>\n",
       "    </tr>\n",
       "  </tbody>\n",
       "</table>\n",
       "</div>"
      ],
      "text/plain": [
       "   season season_episode        episode_title     airdate  rating_value  \\\n",
       "0       1          S1.E1  Good News, Bad News  1989-07-05           7.3   \n",
       "1       1          S1.E2         The Stakeout  1990-05-31           7.5   \n",
       "2       1          S1.E3          The Robbery  1990-06-07           7.5   \n",
       "3       1          S1.E4       Male Unbonding  1990-06-14           7.3   \n",
       "4       1          S1.E5        The Stock Tip  1990-06-21           7.4   \n",
       "\n",
       "   total_votes                       writer      director  \n",
       "0       6400.0  Larry David, Jerry Seinfeld     Art Wolff  \n",
       "1       5500.0  Larry David, Jerry Seinfeld  Tom Cherones  \n",
       "2       5000.0                 Matt Goldman  Tom Cherones  \n",
       "3       4900.0  Larry David, Jerry Seinfeld  Tom Cherones  \n",
       "4       4800.0  Larry David, Jerry Seinfeld  Tom Cherones  "
      ]
     },
     "metadata": {},
     "output_type": "display_data"
    }
   ],
   "source": [
    "comb_df.head()"
   ]
  },
  {
   "cell_type": "markdown",
   "metadata": {},
   "source": [
    "Next, I want to find out which writer-director pairings resulted in the highest episode ratings.\n",
    "For this, grouping by writer and director to calculate the mean rating for the episodes they worked on together:"
   ]
  },
  {
   "cell_type": "code",
   "execution_count": null,
   "metadata": {},
   "outputs": [
    {
     "name": "stdout",
     "output_type": "stream",
     "text": [
      "                                   writer            director  rating_value\n",
      "0             Peter Mehlman, Carol Leifer        Tom Cherones           9.5\n",
      "1         Peter Mehlman and Jill Franklyn       Andy Ackerman           9.0\n",
      "2            Carol Leifer, Marjorie Gross  David Owen Trainor           8.9\n",
      "3             David Mandel, Peter Mehlman       Andy Ackerman           8.9\n",
      "4  Tom Gammill, Max Pross and Larry David       Andy Ackerman           8.9\n"
     ]
    }
   ],
   "source": [
    "wd_ratings = df.groupby(['writer', 'director'])['rating_value'].mean().sort_values(ascending=False).reset_index()\n",
    "\n",
    "# Identifying the top 5 writer-director teams with the highest average ratings\n",
    "wd_dream_teams = wd_ratings.head(5)\n",
    "\n",
    "print(wd_dream_teams)\n"
   ]
  },
  {
   "cell_type": "markdown",
   "metadata": {},
   "source": [
    "Upon first glance it seems to have done the trick, but we're not accounting for the way the writers are grouped together in the file. In the 'writer' column, there is sometimes a comma between two individual names, or an 'and' joining them together.\n",
    "\n",
    "Below we'll try again, this time accounting for the mistake."
   ]
  },
  {
   "cell_type": "code",
   "execution_count": null,
   "metadata": {},
   "outputs": [
    {
     "name": "stdout",
     "output_type": "stream",
     "text": [
      "      writer_list            director  rating_value\n",
      "0   Jill Franklyn       Andy Ackerman          9.00\n",
      "1    Carol Leifer  David Owen Trainor          8.90\n",
      "2    Carol Leifer        Tom Cherones          8.90\n",
      "3  Marjorie Gross  David Owen Trainor          8.90\n",
      "4     Larry Levin        Tom Cherones          8.75\n"
     ]
    }
   ],
   "source": [
    "df['writer_list'] = df['writer'].str.replace(' and ', ', ').str.split(', ')\n",
    "\n",
    "exploded_df = df.explode('writer_list')\n",
    "\n",
    "ind_wd_ratings = exploded_df.groupby(['writer_list', 'director'])['rating_value'].mean().sort_values(ascending=False).reset_index()\n",
    "\n",
    "wd_pairings = ind_wd_ratings.head(5)\n",
    "\n",
    "print(ind_wd_ratings.head(5))\n"
   ]
  }
 ],
 "metadata": {
  "kernelspec": {
   "display_name": "base",
   "language": "python",
   "name": "python3"
  },
  "language_info": {
   "codemirror_mode": {
    "name": "ipython",
    "version": 3
   },
   "file_extension": ".py",
   "mimetype": "text/x-python",
   "name": "python",
   "nbconvert_exporter": "python",
   "pygments_lexer": "ipython3",
   "version": "3.11.4"
  }
 },
 "nbformat": 4,
 "nbformat_minor": 2
}
